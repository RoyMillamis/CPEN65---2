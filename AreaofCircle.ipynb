{
  "nbformat": 4,
  "nbformat_minor": 0,
  "metadata": {
    "colab": {
      "provenance": [],
      "collapsed_sections": [],
      "authorship_tag": "ABX9TyOFI7asj+4mYRxq+LdzNqXi",
      "include_colab_link": true
    },
    "kernelspec": {
      "name": "python3",
      "display_name": "Python 3"
    },
    "language_info": {
      "name": "python"
    }
  },
  "cells": [
    {
      "cell_type": "markdown",
      "metadata": {
        "id": "view-in-github",
        "colab_type": "text"
      },
      "source": [
        "<a href=\"https://colab.research.google.com/github/RoyMillamis/CPEN65-2/blob/main/AreaofCircle.ipynb\" target=\"_parent\"><img src=\"https://colab.research.google.com/assets/colab-badge.svg\" alt=\"Open In Colab\"/></a>"
      ]
    },
    {
      "cell_type": "markdown",
      "source": [
        "#CREATE A PYTHON PROGRAM THAT COMPUTES THE AREA OF A CIRCLE\n"
      ],
      "metadata": {
        "id": "Kb5wKYBvKoIN"
      }
    },
    {
      "cell_type": "code",
      "source": [
        "\n",
        "# using Radius\n",
        "\n",
        "PI = 3.14\n",
        "radius = float(input(' Please Enter the radius of a circle: '))\n",
        "area = PI * radius * radius\n",
        "circumference = 2 * PI * radius\n",
        "\n",
        "print(\" Area Of a Circle = %.2f\" %area)\n",
        "print(\" Circumference Of a Circle = %.2f\" %circumference)"
      ],
      "metadata": {
        "colab": {
          "base_uri": "https://localhost:8080/"
        },
        "id": "pGEKcrMIKx79",
        "outputId": "c6afcc87-a596-4ed4-f7de-d4facee02e92"
      },
      "execution_count": null,
      "outputs": [
        {
          "output_type": "stream",
          "name": "stdout",
          "text": [
            " Please Enter the radius of a circle: 6\n",
            " Area Of a Circle = 113.04\n",
            " Circumference Of a Circle = 37.68\n"
          ]
        }
      ]
    },
    {
      "cell_type": "code",
      "source": [
        "# using diameter\n",
        "import math\n",
        "\n",
        "diameter = float(input(' Please Enter the Diameter of a circle: '))\n",
        "area1 = (math.pi/4) * (diameter * diameter)\n",
        "# diameter = 2 * radius\n",
        "# radius = diameter/2\n",
        "radius = diameter / 2\n",
        "area2 = math.pi * radius * radius\n",
        "\n",
        "print(\" Area of Circle using diameter = %.2f\" %area1);"
      ],
      "metadata": {
        "colab": {
          "base_uri": "https://localhost:8080/"
        },
        "id": "IU5sC4YtMhdH",
        "outputId": "c4a9c288-5cdc-4ed5-e391-6accdd683a0a"
      },
      "execution_count": 3,
      "outputs": [
        {
          "output_type": "stream",
          "name": "stdout",
          "text": [
            " Please Enter the Diameter of a circle: 5\n",
            " Area of Circle using diameter = 19.63\n"
          ]
        }
      ]
    }
  ]
}