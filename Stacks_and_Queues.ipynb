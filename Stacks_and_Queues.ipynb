{
  "nbformat": 4,
  "nbformat_minor": 0,
  "metadata": {
    "colab": {
      "provenance": [],
      "authorship_tag": "ABX9TyPgVLHwhKzHZk+aR9rOcr28",
      "include_colab_link": true
    },
    "kernelspec": {
      "name": "python3",
      "display_name": "Python 3"
    },
    "language_info": {
      "name": "python"
    }
  },
  "cells": [
    {
      "cell_type": "markdown",
      "metadata": {
        "id": "view-in-github",
        "colab_type": "text"
      },
      "source": [
        "<a href=\"https://colab.research.google.com/github/RoyMillamis/CPEN65-2/blob/main/Stacks_and_Queues.ipynb\" target=\"_parent\"><img src=\"https://colab.research.google.com/assets/colab-badge.svg\" alt=\"Open In Colab\"/></a>"
      ]
    },
    {
      "cell_type": "code",
      "source": [
        "class Stack:\n",
        "  def __init__(self):\n",
        "    self.stack = []\n",
        "\n",
        "  def push(self,dataval):\n",
        "    if dataval not in self.stack:\n",
        "      return self.stack.append(dataval)\n",
        "    else:\n",
        "      return False\n",
        "  def pop(self):\n",
        "    if len(self.stack)<=0:\n",
        "      return \"Stack is empty\"\n",
        "    else:\n",
        "      return self.stack.pop()\n",
        "\n",
        "AStack = Stack()\n",
        "AStack.push(1) \n",
        "AStack.push(2)\n",
        "AStack.push(3)\n",
        "\n",
        "print(AStack.stack)\n"
      ],
      "metadata": {
        "colab": {
          "base_uri": "https://localhost:8080/"
        },
        "id": "bd3LEfpVDrhm",
        "outputId": "494cb6a0-51ab-45f3-9b58-b612f3cb673c"
      },
      "execution_count": null,
      "outputs": [
        {
          "output_type": "stream",
          "name": "stdout",
          "text": [
            "[0, 2, 3]\n"
          ]
        }
      ]
    },
    {
      "cell_type": "code",
      "source": [
        "class Stack:\n",
        "  def __init__(self):\n",
        "    self.stack = []\n",
        "\n",
        "  def push(self,dataval):\n",
        "    if dataval not in self.stack:\n",
        "      return self.stack.append(dataval)\n",
        "    else:\n",
        "      return False\n",
        "  def pop(self):\n",
        "    if len(self.stack)<=0:\n",
        "      return \"Stack is empty\"\n",
        "    else:\n",
        "      return self.stack.pop()\n",
        "\n",
        "AStack = Stack()\n",
        "AStack.push(1) \n",
        "AStack.push(2)\n",
        "AStack.push(3)\n",
        "\n",
        "print(AStack.stack)\n",
        "\n",
        "AStack.pop()"
      ],
      "metadata": {
        "colab": {
          "base_uri": "https://localhost:8080/"
        },
        "id": "e8uWI69RGKIG",
        "outputId": "7f54ce5f-9b80-42dc-85da-e7860f8802a6"
      },
      "execution_count": null,
      "outputs": [
        {
          "output_type": "stream",
          "name": "stdout",
          "text": [
            "[1, 2, 3]\n"
          ]
        },
        {
          "output_type": "execute_result",
          "data": {
            "text/plain": [
              "3"
            ]
          },
          "metadata": {},
          "execution_count": 147
        }
      ]
    },
    {
      "cell_type": "code",
      "source": [
        "class Stack:\n",
        "  def __init__(self):\n",
        "    self.stack = []\n",
        "\n",
        "  def push(self,dataval):\n",
        "    if dataval not in self.stack:\n",
        "      return self.stack.append(dataval)\n",
        "    else:\n",
        "      return False\n",
        "  def pop(self):\n",
        "    if len(self.stack)<=0:\n",
        "      return \"Stack is empty\"\n",
        "    else:\n",
        "      return self.stack.pop()\n",
        "\n",
        "AStack = Stack()\n",
        "AStack.push(1) \n",
        "AStack.push(2)\n",
        "AStack.push(3)\n",
        "\n",
        "print(AStack.stack)\n",
        "\n",
        "AStack.pop()\n",
        "print(AStack.stack)"
      ],
      "metadata": {
        "colab": {
          "base_uri": "https://localhost:8080/"
        },
        "id": "mOVUYn4YGSaw",
        "outputId": "9933ffeb-1357-4ac2-da1a-9328ab9de942"
      },
      "execution_count": null,
      "outputs": [
        {
          "output_type": "stream",
          "name": "stdout",
          "text": [
            "[1, 2, 3]\n",
            "[1, 2]\n"
          ]
        }
      ]
    },
    {
      "cell_type": "code",
      "source": [
        "class Stack:\n",
        "  def __init__(self):\n",
        "    self.stack = []\n",
        "\n",
        "  def push(self,dataval):\n",
        "    if dataval not in self.stack:\n",
        "      return self.stack.append(dataval)\n",
        "    else:\n",
        "      return False\n",
        "  def pop(self):\n",
        "    if len(self.stack)<=0:\n",
        "      return \"Stack is empty\"\n",
        "    else:\n",
        "      return self.stack.pop()\n",
        "\n",
        "AStack = Stack()\n",
        "AStack.push(1) \n",
        "AStack.push(2)\n",
        "AStack.push(3)\n",
        "\n",
        "print(AStack.stack)\n",
        "\n",
        "AStack.pop()\n",
        "print(AStack.stack)\n",
        "AStack.pop()\n",
        "print(AStack.stack)"
      ],
      "metadata": {
        "colab": {
          "base_uri": "https://localhost:8080/"
        },
        "id": "18IfZBbjGcJG",
        "outputId": "323971c3-96cf-45ae-d3e1-b7d24127565a"
      },
      "execution_count": null,
      "outputs": [
        {
          "output_type": "stream",
          "name": "stdout",
          "text": [
            "[1, 2, 3]\n",
            "[1, 2]\n",
            "[1]\n"
          ]
        }
      ]
    },
    {
      "cell_type": "code",
      "source": [
        "class Stack:\n",
        "  def __init__(self):\n",
        "    self.stack = []\n",
        "\n",
        "  def push(self,dataval):\n",
        "    if dataval not in self.stack:\n",
        "      return self.stack.append(dataval)\n",
        "    else:\n",
        "      return False\n",
        "  def pop(self):\n",
        "    if len(self.stack)<=0:\n",
        "      return \"Stack is empty\"\n",
        "    else:\n",
        "      return self.stack.pop()\n",
        "\n",
        "AStack = Stack()\n",
        "AStack.push(1) \n",
        "AStack.push(2)\n",
        "AStack.push(3)\n",
        "\n",
        "print(AStack.stack)\n",
        "\n",
        "AStack.pop()\n",
        "print(AStack.stack)\n",
        "AStack.pop()\n",
        "print(AStack.stack)\n",
        "AStack.pop()\n",
        "print(AStack.stack)"
      ],
      "metadata": {
        "colab": {
          "base_uri": "https://localhost:8080/"
        },
        "id": "o8a5KYFdG4dn",
        "outputId": "ff2290b3-ae97-4f38-f319-f8a0763191f1"
      },
      "execution_count": null,
      "outputs": [
        {
          "output_type": "stream",
          "name": "stdout",
          "text": [
            "[1, 2, 3]\n",
            "[1, 2]\n",
            "[1]\n",
            "[]\n"
          ]
        }
      ]
    },
    {
      "cell_type": "code",
      "source": [
        "class Stack:\n",
        "  def __init__(self):\n",
        "    self.stack = []\n",
        "\n",
        "  def add(self,dataval):\n",
        "    if dataval not in self.stack:\n",
        "      return self.stack.append(dataval)\n",
        "    else:\n",
        "      return False\n",
        "  def remove(self):\n",
        "    if len(self.stack)<=0:\n",
        "      return \"Stack is empty\"\n",
        "    else:\n",
        "      return self.stack.pop()\n",
        "\n",
        "AStack = Stack()\n",
        "AStack.add(1) \n",
        "AStack.add(2)\n",
        "AStack.add(3)\n",
        "\n",
        "print(AStack.stack)\n",
        "print(AStack.remove())\n",
        "print(AStack.stack)\n",
        "print(AStack.remove())\n",
        "print(AStack.stack)"
      ],
      "metadata": {
        "colab": {
          "base_uri": "https://localhost:8080/"
        },
        "id": "zwfoa7VoKnsI",
        "outputId": "c3dab194-596c-4c2b-dfa7-8fb889d0cd0c"
      },
      "execution_count": null,
      "outputs": [
        {
          "output_type": "stream",
          "name": "stdout",
          "text": [
            "[0, 2, 3]\n",
            "3\n",
            "[0, 2]\n",
            "2\n",
            "[0]\n"
          ]
        }
      ]
    },
    {
      "cell_type": "code",
      "source": [
        "#APPLICATION 1 \n",
        "#IMPLEMENT THE ABOVE PROGRAM BY QUEUES DATA STRUCTURE (ENQUEUE AND DEQUEUE/FIFO PRINCIPLE)\n",
        "\n",
        "class Queue:\n",
        "  def __init__(self):\n",
        "    self.queue = []\n",
        "  \n",
        "  def enqueue(self,dataval):\n",
        "    if dataval not in self.queue:\n",
        "      return self.queue.append(dataval)\n",
        "    else:\n",
        "      return False\n",
        "\n",
        "  def dequeue(self):\n",
        "    if len(self.queue)<=0:\n",
        "      return \"Queue is empty\"\n",
        "    else:\n",
        "      return self.queue.pop(0)\n",
        "  \n",
        "\n",
        "Q = Queue()\n",
        "Q.enqueue(1)\n",
        "Q.enqueue(2)\n",
        "Q.enqueue(3) \n",
        "\n",
        "print(Q.queue)\n",
        "print(Q.dequeue())\n",
        "print(Q.queue)\n",
        "print(Q.dequeue())\n",
        "print(Q.queue)\n",
        "print(Q.dequeue())\n",
        "print(Q.queue)\n",
        "\n",
        "\n",
        "\n",
        "\n",
        "\n",
        "\n",
        "\n",
        "\n",
        "\n",
        "\n"
      ],
      "metadata": {
        "colab": {
          "base_uri": "https://localhost:8080/"
        },
        "id": "lIoO7Uc1Hd4d",
        "outputId": "66923129-904b-42a1-8ad6-f1d96698022e"
      },
      "execution_count": null,
      "outputs": [
        {
          "output_type": "stream",
          "name": "stdout",
          "text": [
            "[1, 2, 3]\n",
            "1\n",
            "[2, 3]\n",
            "2\n",
            "[3]\n",
            "3\n",
            "[]\n"
          ]
        }
      ]
    },
    {
      "cell_type": "code",
      "source": [
        "#APPLICATION 1 \n",
        "#IMPLEMENT THE ABOVE PROGRAM BY QUEUES DATA STRUCTURE (ENQUEUE AND DEQUEUE/FIFO PRINCIPLE)\n",
        "\n",
        "class Queue:\n",
        "  def __init__(self):\n",
        "    self.queue = []\n",
        "  \n",
        "  def enqueue(self,dataval):\n",
        "    if dataval not in self.queue:\n",
        "      return self.queue.append(dataval)\n",
        "    else:\n",
        "      return False\n",
        "\n",
        "  def dequeue(self):\n",
        "    if len(self.queue)<=0:\n",
        "      return \"Queue is empty\"\n",
        "    else:\n",
        "      return self.queue.pop(0)\n",
        "  \n",
        "\n",
        "Q = Queue()\n",
        "Q.enqueue(1)\n",
        "Q.enqueue(2)\n",
        "Q.enqueue(3) \n",
        "\n",
        "print(Q.queue)\n",
        "(Q.dequeue())\n",
        "print(Q.queue)\n",
        "(Q.dequeue())\n",
        "print(Q.queue)\n",
        "(Q.dequeue())\n",
        "print(Q.queue)\n"
      ],
      "metadata": {
        "colab": {
          "base_uri": "https://localhost:8080/"
        },
        "id": "PnH5JZuKkABP",
        "outputId": "5531582b-d031-4fc0-f173-9f0c76e090bd"
      },
      "execution_count": null,
      "outputs": [
        {
          "output_type": "stream",
          "name": "stdout",
          "text": [
            "[1, 2, 3]\n",
            "[2, 3]\n",
            "[3]\n",
            "[]\n"
          ]
        }
      ]
    },
    {
      "cell_type": "code",
      "source": [
        "from collections import deque\n",
        "class Queue:\n",
        "  def __init__(self):\n",
        "    self.queue = deque()\n",
        "  def  insert(self, item):\n",
        "    self.queue.append(item)\n",
        "  def dequeue(self):\n",
        "    if len(self.queue)>0:\n",
        "      return self.queue.popleft()\n",
        "    else:\n",
        "      return None\n",
        "  def __str__(self):\n",
        "    return str(self.queue)\n",
        "  \n",
        "  \n",
        "\n",
        "my_queue = Queue()\n",
        "my_queue.insert(1)\n",
        "my_queue.insert(2)\n",
        "my_queue.insert(3)\n",
        "print(my_queue)\n",
        "print(my_queue.dequeue())\n",
        "print(my_queue)\n",
        "print(my_queue.dequeue())\n",
        "print(my_queue)\n",
        "print(my_queue.dequeue())\n",
        "print(my_queue)"
      ],
      "metadata": {
        "colab": {
          "base_uri": "https://localhost:8080/"
        },
        "id": "AnfhuvvqsA7v",
        "outputId": "2f43c6a0-8674-45c7-9d91-591f0cdb34f1"
      },
      "execution_count": null,
      "outputs": [
        {
          "output_type": "stream",
          "name": "stdout",
          "text": [
            "deque([1, 2, 3])\n",
            "1\n",
            "deque([2, 3])\n",
            "2\n",
            "deque([3])\n",
            "3\n",
            "deque([])\n"
          ]
        }
      ]
    }
  ]
}