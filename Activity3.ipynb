{
  "nbformat": 4,
  "nbformat_minor": 0,
  "metadata": {
    "colab": {
      "provenance": [],
      "authorship_tag": "ABX9TyPUrAtEAUAr9QaIopweAu1X",
      "include_colab_link": true
    },
    "kernelspec": {
      "name": "python3",
      "display_name": "Python 3"
    },
    "language_info": {
      "name": "python"
    }
  },
  "cells": [
    {
      "cell_type": "markdown",
      "metadata": {
        "id": "view-in-github",
        "colab_type": "text"
      },
      "source": [
        "<a href=\"https://colab.research.google.com/github/RoyMillamis/CPEN65-2/blob/main/Activity3.ipynb\" target=\"_parent\"><img src=\"https://colab.research.google.com/assets/colab-badge.svg\" alt=\"Open In Colab\"/></a>"
      ]
    },
    {
      "cell_type": "code",
      "execution_count": 15,
      "metadata": {
        "colab": {
          "base_uri": "https://localhost:8080/"
        },
        "id": "ntQBjPV1y5Sh",
        "outputId": "635703dc-30f5-41ba-8227-18903f85a0da"
      },
      "outputs": [
        {
          "output_type": "stream",
          "name": "stdout",
          "text": [
            "['R', 'O', 'Y', 'M', 'I', 'L', 'L', 'A', 'M', 'I', 'S']\n",
            "['S', 'I', 'M', 'A', 'L', 'L', 'I', 'M', 'Y', 'O', 'R']\n"
          ]
        }
      ],
      "source": [
        "#CREATE A PYTHON PROGRAM THAT USE ARRAY\n",
        "#INSERT EACH CHARACTER OF YOUR FULL NAME AND DISPLAYS EACH CHARACTER OF YOUR FULL NAME IN REVERSE ORDER\n",
        "\n",
        "Letters = ['R','O','Y','M','I','L','L','A','M','I','S']\n",
        "print(Letters)\n",
        "Letters.reverse()\n",
        "print(Letters)"
      ]
    }
  ]
}